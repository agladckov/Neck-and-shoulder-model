{
 "cells": [
  {
   "cell_type": "markdown",
   "metadata": {},
   "source": [
    "На случай, если кому-либо потребуется тех-исходник теоретических формул, использующихся в работе, их можно взять отсюда"
   ]
  },
  {
   "cell_type": "markdown",
   "metadata": {},
   "source": [
    "$\\underset {\\vec q}{\\min} \\left [ \\sum \\limits_{i \\in M} \\omega_i\\|\\vec{x_i}^{\\text{экспер}}-\\vec{x_i}(\\vec q)\\|^2 + \\sum \\limits_{j \\in C} v_j\\|\\vec{q_j}^{\\text{экспер}}-\\vec{q_j}\\|^2 \\right ]$\n",
    "\n",
    "$\\vec q$ - вектор обобщённых координат в конкретный момент времени, который мы ищем.\n",
    "\n",
    "$M$ - множество маркеров, $C$ - множество заранее заданных обобщенных координат.\n",
    "\n",
    "$\\vec{x_i}^{\\text{экспер}}$ - экспериментальные координаты маркера $i$ в конкретный момент времени.\n",
    "\n",
    "$\\vec{x_i}(\\vec q)$ - координаты маркера $i$ в модели при обобщённых координатах $\\vec q$.\n",
    "\n",
    "$\\vec{q_j}^{\\text{экспер}}$ - вектор обобщённых координат, измеренный экспериментально, соответствующий\n",
    "\n",
    "заранее заданной обобщённой координате $j$.\n",
    "\n",
    "$\\vec x$ - вектор координат маркеров в конкретный момент времени.\n",
    "\n",
    "$\\omega_i$ - вес маркера $i$, $v_j$ - вес обобщённой координаты $j$.\n",
    "\n"
   ]
  },
  {
   "cell_type": "markdown",
   "metadata": {},
   "source": [
    "Классические уравнения движения могут быть переписаны в виде\n",
    "\n",
    "$M(\\vec q)\\ddot{\\vec q} + C(\\vec q, \\dot{\\vec q})+G(\\vec q)=\\vec{\\tau}$.\n",
    "\n",
    "$N$ - количество степеней свободы.\n",
    "\n",
    "$\\vec q$, $\\dot{\\vec q}$, $\\ddot{\\vec q} \\in R^N$ - обобщённые координаты, скорости и ускорения.\n",
    "\n",
    "$M(\\vec q)\\in R^{N \\times N}$ - матрица масс системы.\n",
    "\n",
    "$C(\\vec q, \\dot{\\vec q}) \\in R^N$ - вектор Кориолисовых и центростремительных сил.\n",
    "\n",
    "$G(\\vec q) \\in R^N$ - вектор гравитационных сил.\n",
    "\n",
    "$\\vec{\\tau}\\in R^N$ - вектор обобщённых сил."
   ]
  },
  {
   "cell_type": "markdown",
   "metadata": {},
   "source": [
    "$\\sum \\limits_t \\left (\\left(\\frac{x(t)-x_0}a \\right)^2 + \\left(\\frac{y(t)-y_0}b \\right)^2 + \\left(\\frac{z(t)-z_0}c \\right)^2 - 1 \\right)^2 \\to \\min$\n",
    "\n",
    "\n",
    "$(x(t), y(t), z(t))$ - координаты условной точки лопатки,\n",
    "\n",
    "$(x_0, y_0, z_0)$ - центр эллипсоида, $a$, $b$, $c$ - величины полуосей."
   ]
  },
  {
   "cell_type": "code",
   "execution_count": null,
   "metadata": {},
   "outputs": [],
   "source": []
  }
 ],
 "metadata": {
  "kernelspec": {
   "display_name": "Python 3",
   "language": "python",
   "name": "python3"
  },
  "language_info": {
   "codemirror_mode": {
    "name": "ipython",
    "version": 3
   },
   "file_extension": ".py",
   "mimetype": "text/x-python",
   "name": "python",
   "nbconvert_exporter": "python",
   "pygments_lexer": "ipython3",
   "version": "3.7.3"
  }
 },
 "nbformat": 4,
 "nbformat_minor": 5
}
