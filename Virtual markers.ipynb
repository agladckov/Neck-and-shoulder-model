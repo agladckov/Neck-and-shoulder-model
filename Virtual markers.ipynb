{
 "cells": [
  {
   "cell_type": "markdown",
   "metadata": {},
   "source": [
    "Скрипт позволяет добавлять в экспериментальные \"виртуальные\" маркеры, координаты которых есть среднее арифметическое координат некоторых других маркеров."
   ]
  },
  {
   "cell_type": "code",
   "execution_count": null,
   "metadata": {},
   "outputs": [],
   "source": [
    "import numpy as np\n",
    "import pandas as pd\n",
    "from io import StringIO\n",
    "import matplotlib.pyplot as plt\n",
    "from numpy import linalg as LA"
   ]
  },
  {
   "cell_type": "code",
   "execution_count": 5,
   "metadata": {},
   "outputs": [],
   "source": [
    "#Все маркеры\n",
    "markers = ['RAH', 'RPH', 'LAH', 'LPH', 'C7', 'T8', 'IJ', 'PX','RSC', 'RAC','LSC', 'LAC', 'RAI', 'RPC',\n",
    "           'RTS', 'RAA', 'LAI', 'LTS', 'LAA', 'LPC', 'REM', 'REL', 'LEM', 'LEL', 'RRS', 'RUS', 'LRS', 'LUS', 'LSJ', 'RSJ']\n",
    "#Маркеры, условно неподвижные относительно тела (непосредственно связаны со скелетом)\n",
    "stablemarkers = ['T8', 'IJ', 'PX', 'C7']\n",
    "#Маркеры лопатки\n",
    "markersscap = ['RTS', 'RAI', 'RAA']\n",
    "#Хранит названия всех колонок в списке\n",
    "cols = []\n",
    "#Хранит названия колонок неподвижных маркеров в списке\n",
    "stablecols = []\n",
    "#Хранит названия колонок маркеров лопатки в списке\n",
    "scapulacols = []\n",
    "#Data from original file\n",
    "datalines = []\n",
    "#Хранит названия колонок в строке\n",
    "csvcols = ''\n",
    "#Формирование списков\n",
    "for i in markers:\n",
    "    cols.append(i + 'x')\n",
    "    cols.append(i + 'y')\n",
    "    cols.append(i + 'z')\n",
    "    csvcols += cols[-3] + '\\t' + cols[-2] + '\\t' + cols[-1] + '\\t'\n",
    "for i in stablemarkers:\n",
    "    stablecols.append(i + 'x')\n",
    "    stablecols.append(i + 'y')\n",
    "    stablecols.append(i + 'z')\n",
    "for i in markersscap:\n",
    "    scapulacols.append(i + 'x')\n",
    "    scapulacols.append(i + 'y')\n",
    "    scapulacols.append(i + 'z')"
   ]
  },
  {
   "cell_type": "code",
   "execution_count": 7,
   "metadata": {},
   "outputs": [],
   "source": [
    "#Здесь указывается анализируемый файл\n",
    "file = 'smoothed_trc\\\\very long static 14_shifted_smoothed.trc'\n",
    "with open (file, 'r') as fp:\n",
    "    datalines = fp.readlines()\n",
    "    #Удаляется ненужная техническая информация\n",
    "    infolines = datalines[0:5]\n",
    "    datalines = datalines[5:-1]\n",
    "textdatalines = ''\n",
    "textinfodatalines = ''\n",
    "for i in datalines:\n",
    "    textdatalines += i + '\\n'\n",
    "#df хранит данные оригинального файла\n",
    "df = pd.read_csv(StringIO(textdatalines), sep = '\\t', names = ['Frame#', 'Time'] + cols)"
   ]
  },
  {
   "cell_type": "code",
   "execution_count": 8,
   "metadata": {},
   "outputs": [],
   "source": [
    "#Словарь, сопоставляющий группе маркеров для усреднения конкретный набор этих маркеров\n",
    "#Можно своему ключу сопоставить некоторую группу маркеров. В итоге в экспериментальные данные будет добавлен\n",
    "#новый виртуальный маркер\n",
    "new_mean_markers = {}\n",
    "new_mean_markers['RLPH'] = ['RPH', 'LPH'] #Center of dorsal head\n",
    "new_mean_markers['RLSC'] = ['RSC', 'LSC'] #Center of sternum's top\n",
    "new_mean_markers['RLTS'] = ['RTS', 'LTS'] #Markers between scapulas\n",
    "new_mean_markers['RLAI'] = ['RAI', 'LAI'] #Markers between scapulas\n",
    "new_mean_markers['RELEM'] = ['REL', 'REM'] #Humerus and ulna centrums\n",
    "new_mean_markers['RRSUS'] = ['RRS', 'RUS'] \n",
    "new_mean_markers['LELEM'] = ['LEL', 'LEM']\n",
    "new_mean_markers['LRSUS'] = ['LRS', 'LUS']\n",
    "new_mean_markers['RSCAP'] = ['RAA', 'RAI', 'RTS'] #scapular contact\n",
    "new_mean_markers['LSCAP'] = ['LAA', 'LAI', 'LTS']"
   ]
  },
  {
   "cell_type": "code",
   "execution_count": 9,
   "metadata": {},
   "outputs": [],
   "source": [
    "#Чтобы не портить исходные данные, используем df1\n",
    "df1 = df.copy()\n",
    "#Добавляются новые маркеры, являющиеся ключами в словаре new_mean_markers\n",
    "for i in new_mean_markers:\n",
    "    for j in ['x', 'y', 'z']:\n",
    "        data = np.zeros(len(df1.index))\n",
    "        for k in new_mean_markers[i]:\n",
    "            data += df1[k + j]\n",
    "        data /= len(new_mean_markers[i])\n",
    "        df1.insert(len(df1.columns), i + j, data, False)"
   ]
  },
  {
   "cell_type": "code",
   "execution_count": 11,
   "metadata": {},
   "outputs": [
    {
     "name": "stdout",
     "output_type": "stream",
     "text": [
      "Frame#\tTime\tRAH\tRPH\tLAH\tLPH\tC7\tT8\tIJ\tPX\tRSC\tRAC\tLSC\tLAC\tRAI\tRPC\tRTS\tRAA\tLAI\tLTS\tLAA\tLPC\tREM\tREL\tLEM\tLEL\tRRS\tRUS\tLRS\tLUS\tLSJ\tRSJ\tRLPH\tRLSC\tRLTS\tRLAI\tRELEM\tRRSUS\tLELEM\tLRSUS\tRSCAP\tLSCAP\n",
      "\n"
     ]
    }
   ],
   "source": [
    "#30 - исходное число маркеров, nummarkers - итоговое число маркеров\n",
    "nummarkers = 30 + len(new_mean_markers)\n",
    "#Запись технической инофрмации в trc файл\n",
    "newinfolines = infolines.copy()\n",
    "#В конце указывается имя для нового файла с координатами\n",
    "newinfolines[0] = \"PathFileType\\t4\\t(X/Y/Z)\\\\\" + file[0:-4] + '_adv_mark.trc\\n'\n",
    "newinfolines[2] = '100\\t100\\t' + str(len(df1)+1) + '\\t' +str(nummarkers)+'\\tmm\\t100\\t' + str(df1['Time'].values[0]) + '\\t' + str(len(df1)+1) + '\\n'\n",
    "newinfolines[3] = 'Frame#\\tTime'\n",
    "#Запись кординат\n",
    "for i in markers:\n",
    "    newinfolines[3] += '\\t' + i\n",
    "for i in new_mean_markers:\n",
    "    newinfolines[3] += '\\t' + i\n",
    "newinfolines[3] += '\\n'\n",
    "newinfolines[4] = '\\t\\t'\n",
    "for i in range(1, nummarkers+1):\n",
    "    newinfolines[4] += 'X' + str(i) + '\\t'\n",
    "    newinfolines[4] += 'Y' + str(i) + '\\t'\n",
    "    newinfolines[4] += 'Z' + str(i) + '\\t'\n",
    "newinfolines[4] += '\\n'\n",
    "#Запись результата в файл\n",
    "newtextlines = df1.to_csv(sep = '\\t', header=False, index = False)\n",
    "newtextlines = ''.join(newinfolines) + newtextlines\n",
    "with open (file[0:-4] + '_adv_mark.trc', 'w+') as fp:\n",
    "    fp.write(newtextlines)"
   ]
  },
  {
   "cell_type": "code",
   "execution_count": null,
   "metadata": {},
   "outputs": [],
   "source": []
  }
 ],
 "metadata": {
  "kernelspec": {
   "display_name": "Python 3",
   "language": "python",
   "name": "python3"
  },
  "language_info": {
   "codemirror_mode": {
    "name": "ipython",
    "version": 3
   },
   "file_extension": ".py",
   "mimetype": "text/x-python",
   "name": "python",
   "nbconvert_exporter": "python",
   "pygments_lexer": "ipython3",
   "version": "3.7.3"
  }
 },
 "nbformat": 4,
 "nbformat_minor": 5
}
