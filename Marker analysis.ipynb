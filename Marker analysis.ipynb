{
 "cells": [
  {
   "cell_type": "markdown",
   "metadata": {},
   "source": [
    "Данный скрипт позволяет "
   ]
  },
  {
   "cell_type": "code",
   "execution_count": null,
   "metadata": {},
   "outputs": [],
   "source": [
    "import numpy as np\n",
    "import math\n",
    "import pandas as pd\n",
    "from io import StringIO\n",
    "import matplotlib.pyplot as plt\n",
    "from numpy import linalg as LA"
   ]
  },
  {
   "cell_type": "code",
   "execution_count": 32,
   "metadata": {},
   "outputs": [],
   "source": [
    "#Все маркеры\n",
    "markers = ['RAH', 'RPH', 'LAH', 'LPH', 'C7', 'T8', 'IJ', 'PX','RSC', 'RAC','LSC', 'LAC', 'RAI', 'RPC',\n",
    "           'RTS', 'RAA', 'LAI', 'LTS', 'LAA', 'LPC', 'REM', 'REL', 'LEM', 'LEL', 'RRS', 'RUS', 'LRS', 'LUS', 'LSJ', 'RSJ']\n",
    "#Хранит названия колонок в списке\n",
    "cols = []\n",
    "#Маркеры, условно неподвижные относительно тела\n",
    "stablemarkers = ['T8', 'IJ', 'PX', 'C7']\n",
    "#Колонки, соответствующие условно неподвижным маркерам\n",
    "stablecols = []\n",
    "#Хранит названия колонок в строке\n",
    "csvcols = ''\n",
    "for i in markers:\n",
    "    cols.append(i + 'x')\n",
    "    cols.append(i + 'y')\n",
    "    cols.append(i + 'z')\n",
    "    csvcols += cols[-3] + '\\t' + cols[-2] + '\\t' + cols[-1] + '\\t'\n",
    "for i in stablemarkers:\n",
    "    stablecols.append(i + 'x')\n",
    "    stablecols.append(i + 'y')\n",
    "    stablecols.append(i + 'z')"
   ]
  },
  {
   "cell_type": "code",
   "execution_count": 30,
   "metadata": {},
   "outputs": [
    {
     "ename": "KeyboardInterrupt",
     "evalue": "",
     "output_type": "error",
     "traceback": [
      "\u001b[1;31m---------------------------------------------------------------------------\u001b[0m",
      "\u001b[1;31mKeyboardInterrupt\u001b[0m                         Traceback (most recent call last)",
      "\u001b[1;32m~\\AppData\\Local\\Temp/ipykernel_5600/244069345.py\u001b[0m in \u001b[0;36m<module>\u001b[1;34m\u001b[0m\n\u001b[0;32m     14\u001b[0m     \u001b[0mtextinfodatalines\u001b[0m \u001b[1;33m=\u001b[0m \u001b[1;34m''\u001b[0m\u001b[1;33m\u001b[0m\u001b[1;33m\u001b[0m\u001b[0m\n\u001b[0;32m     15\u001b[0m     \u001b[1;32mfor\u001b[0m \u001b[0mi\u001b[0m \u001b[1;32min\u001b[0m \u001b[0mdatalines\u001b[0m\u001b[1;33m:\u001b[0m\u001b[1;33m\u001b[0m\u001b[1;33m\u001b[0m\u001b[0m\n\u001b[1;32m---> 16\u001b[1;33m         \u001b[0mtextdatalines\u001b[0m \u001b[1;33m+=\u001b[0m \u001b[0mi\u001b[0m \u001b[1;33m+\u001b[0m \u001b[1;34m'\\n'\u001b[0m\u001b[1;33m\u001b[0m\u001b[1;33m\u001b[0m\u001b[0m\n\u001b[0m\u001b[0;32m     17\u001b[0m     \u001b[1;31m#df хранит данные оригинального файла\u001b[0m\u001b[1;33m\u001b[0m\u001b[1;33m\u001b[0m\u001b[0m\n\u001b[0;32m     18\u001b[0m     \u001b[0mdf\u001b[0m \u001b[1;33m=\u001b[0m \u001b[0mpd\u001b[0m\u001b[1;33m.\u001b[0m\u001b[0mread_csv\u001b[0m\u001b[1;33m(\u001b[0m\u001b[0mStringIO\u001b[0m\u001b[1;33m(\u001b[0m\u001b[0mtextdatalines\u001b[0m\u001b[1;33m)\u001b[0m\u001b[1;33m,\u001b[0m \u001b[0msep\u001b[0m \u001b[1;33m=\u001b[0m \u001b[1;34m'\\t'\u001b[0m\u001b[1;33m,\u001b[0m \u001b[0mnames\u001b[0m \u001b[1;33m=\u001b[0m \u001b[1;33m[\u001b[0m\u001b[1;34m'Frame#'\u001b[0m\u001b[1;33m,\u001b[0m \u001b[1;34m'Time'\u001b[0m\u001b[1;33m]\u001b[0m \u001b[1;33m+\u001b[0m \u001b[0mcols\u001b[0m\u001b[1;33m)\u001b[0m\u001b[1;33m\u001b[0m\u001b[1;33m\u001b[0m\u001b[0m\n",
      "\u001b[1;31mKeyboardInterrupt\u001b[0m: "
     ]
    }
   ],
   "source": [
    "#Файлы для анализа\n",
    "files = ['1.trc', '2.trc','3.trc','4.trc','5.trc','6.trc','7.trc','8.trc','9.trc','9_combined.trc','9_left.trc','9_right.trc',\n",
    "'10.trc', '11.trc','12.trc','12_shrugging.trc','13.trc','14.trc','14_depression.trc', '14_elevation.trc', 'very long static 14.trc']\n",
    "#files = ['1.trc']\n",
    "#Добавление префикса/постфикса\n",
    "for i in range(len(files)):\n",
    "    files[i] = 'smoothed_trc\\\\' + files[i][0:-4] + '_shifted_smoothed.trc'\n",
    "for file in files:\n",
    "    #Data from original file\n",
    "    datalines = []\n",
    "    with open (file, 'r') as fp:\n",
    "        datalines = fp.readlines()\n",
    "        infolines = datalines[0:5]\n",
    "        datalines = datalines[5:-1]\n",
    "    textdatalines = ''\n",
    "    textinfodatalines = ''\n",
    "    for i in datalines:\n",
    "        textdatalines += i + '\\n'\n",
    "    #df хранит данные оригинального файла\n",
    "    df = pd.read_csv(StringIO(textdatalines), sep = '\\t', names = ['Frame#', 'Time'] + cols)\n",
    "    \n",
    "    #Still Subject coordinates in laboratory frame. Describe the movement of the point, which is still relatively the body\n",
    "    SSx = np.zeros(len(df.index))\n",
    "    SSy = np.zeros(len(df.index))\n",
    "    SSz = np.zeros(len(df.index))\n",
    "\n",
    "    for i in stablecols:\n",
    "        if 'x' in i:\n",
    "            SSx += np.array(df[i])\n",
    "        elif 'y' in i:\n",
    "            SSy += np.array(df[i])\n",
    "        elif 'z' in i:\n",
    "            SSz += np.array(df[i])\n",
    "\n",
    "    SSx /= len(stablecols) \n",
    "    SSy /= len(stablecols)\n",
    "    SSz /= len(stablecols)\n",
    "    \n",
    "    #critical std differentiates still markers between moving ones. when the std is greater than 3sigma for a relatively\n",
    "    #still point, a marker must be recognised as a moving one. sigma is calculated as 6 maximal std of still subject's\n",
    "    #coordinates\n",
    "    critstd = 6 * max(SSx.std(), SSy.std(), SSz.std())\n",
    "    \n",
    "    cols_sorted = cols.copy()\n",
    "    #Сортируем маркеры по величине стандартного отклонения\n",
    "    cols_sorted = sorted(cols_sorted, key = lambda x: df[x].std())\n",
    "    \n",
    "    #Количество маркеров с наиболее крупными стандартными отклонениями\n",
    "    numbiggest = math.ceil(0.15 * len(df.columns))\n",
    "    #Суммарное std маркеров с наиболее крупными стандартными отклонениями\n",
    "    stdleaders = 0\n",
    "    for i in range(1, numbiggest + 1):\n",
    "        stdleaders += df[cols_sorted[-i]].std()\n",
    "    stdleaders /= numbiggest\n",
    "    \n",
    "    with open (file[0:-4] + '_markersinfo.txt', 'w+') as fp:\n",
    "        boundary_not_written = True\n",
    "        fp.write('<Marker> <std, mm> <suggested weight>\\n')\n",
    "        for i in cols_sorted:\n",
    "            curstd = df[i].std()\n",
    "            if boundary_not_written and (curstd > critstd):\n",
    "                fp.write('=== Here start relatively moving markers ===\\n')\n",
    "                boundary_not_written = False\n",
    "            if curstd < critstd / 2:\n",
    "                fp.write(i + ' %.2f -- 1.0\\n' %(curstd))\n",
    "            else:\n",
    "                fp.write(i + ' %.2f -- %.1f\\n' %(curstd, max(1, 5 * np.sqrt(curstd / stdleaders))))\n"
   ]
  }
 ],
 "metadata": {
  "kernelspec": {
   "display_name": "Python 3",
   "language": "python",
   "name": "python3"
  },
  "language_info": {
   "codemirror_mode": {
    "name": "ipython",
    "version": 3
   },
   "file_extension": ".py",
   "mimetype": "text/x-python",
   "name": "python",
   "nbconvert_exporter": "python",
   "pygments_lexer": "ipython3",
   "version": "3.7.3"
  }
 },
 "nbformat": 4,
 "nbformat_minor": 5
}
