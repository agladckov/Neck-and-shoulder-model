{
 "cells": [
  {
   "cell_type": "markdown",
   "metadata": {},
   "source": [
    "Данный скрипт позволяет задать внешние силы и моменты сил некоторыми константными значениями.\n",
    "Согласно инструкции, задание внешних сил необходимо для корректной работы Inverse Dynamics."
   ]
  },
  {
   "cell_type": "code",
   "execution_count": null,
   "metadata": {},
   "outputs": [],
   "source": [
    "import numpy as np\n",
    "import pandas as pd\n",
    "from io import StringIO\n",
    "import matplotlib.pyplot as plt\n",
    "from numpy import linalg as LA"
   ]
  },
  {
   "cell_type": "code",
   "execution_count": 16,
   "metadata": {},
   "outputs": [],
   "source": [
    "#Колонки файла\n",
    "cols = ['time', 'ground_force_vx', 'ground_force_vy', 'ground_force_vz', 'ground_force_px', 'ground_force_py',\n",
    "        'ground_force_pz', '1_ground_force_vx', '1_ground_force_vy', '1_ground_force_vz', '1_ground_force_px',\n",
    "        '1_ground_force_py', '1_ground_force_pz', 'ground_torque_x', 'ground_torque_y', 'ground_torque_z', '1_ground_torque_x', \n",
    "        '1_ground_torque_y', '1_ground_torque_z']\n",
    "\n",
    "time = np.arange(0.01, 60, 0.01)\n",
    "df = pd.DataFrame(np.zeros((len(time), len(cols))), columns = cols)\n",
    "\n",
    "for i in range(len(df.index)):\n",
    "    df['time'][i] = time[i]\n",
    "    df['ground_force_vy'][i] = 66 * 9.81 / 2\n",
    "    df['1_ground_force_vy'][i] = 66 * 9.81 / 2\n",
    "    df['ground_force_px'][i] = 0.31379727\n",
    "    df['ground_force_py'][i] = -0.0075\n",
    "    df['ground_force_pz'][i] = 0.1314973\n",
    "    df['1_ground_force_px'][i] = 0.7860013\n",
    "    df['1_ground_force_py'][i] = -0.0075\n",
    "    df['1_ground_force_pz'][i] = -0.0575348\n",
    "\n",
    "#Запись\n",
    "info = 'grf.mot\\nversion=1\\nnRows='+str(len(df.index)+1) + '\\nnColumns=' + str(len(cols))+'\\ninDegrees=yes\\nendheader\\n'\n",
    "textlines = df.to_csv(sep = '\\t', header=cols, index = False)\n",
    "with open ('grf.mot', 'w+') as fp:\n",
    "    fp.write(info + textlines)"
   ]
  },
  {
   "cell_type": "code",
   "execution_count": null,
   "metadata": {},
   "outputs": [],
   "source": []
  }
 ],
 "metadata": {
  "kernelspec": {
   "display_name": "Python 3",
   "language": "python",
   "name": "python3"
  },
  "language_info": {
   "codemirror_mode": {
    "name": "ipython",
    "version": 3
   },
   "file_extension": ".py",
   "mimetype": "text/x-python",
   "name": "python",
   "nbconvert_exporter": "python",
   "pygments_lexer": "ipython3",
   "version": "3.7.3"
  }
 },
 "nbformat": 4,
 "nbformat_minor": 5
}
